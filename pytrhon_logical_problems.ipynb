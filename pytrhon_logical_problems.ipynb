{
  "nbformat": 4,
  "nbformat_minor": 0,
  "metadata": {
    "colab": {
      "provenance": [],
      "authorship_tag": "ABX9TyPbQzREQU1zS9FntCQqAftB",
      "include_colab_link": true
    },
    "kernelspec": {
      "name": "python3",
      "display_name": "Python 3"
    },
    "language_info": {
      "name": "python"
    }
  },
  "cells": [
    {
      "cell_type": "markdown",
      "metadata": {
        "id": "view-in-github",
        "colab_type": "text"
      },
      "source": [
        "<a href=\"https://colab.research.google.com/github/Manibharthi/python/blob/master/pytrhon_logical_problems.ipynb\" target=\"_parent\"><img src=\"https://colab.research.google.com/assets/colab-badge.svg\" alt=\"Open In Colab\"/></a>"
      ]
    },
    {
      "cell_type": "code",
      "source": [],
      "metadata": {
        "id": "X8-bSV00jFSV"
      },
      "execution_count": null,
      "outputs": []
    },
    {
      "cell_type": "code",
      "source": [
        "#acronyms using splitting and indexing \n",
        "#full program\n",
        "user_input = str(input(\"Enter a Phrase: \")) #=> Mani Bharathi \n",
        "text = user_input.split() #=> text = Mani Barathi. split()\n",
        "a = \" \" #empty storage container\n",
        "for i in text: \n",
        "    a = a+str(i[0]).upper()\n",
        "print(\"full program\", a)\n",
        "###########################################################\n",
        "#step:1\n",
        "user_input = str(input(\"Enter a Phrase: \")) #=> Mani Bharathi \n",
        "text = user_input.split()\n",
        "print(\"using split to split the word\", text)\n",
        "###########################################################\n",
        "#step:2\n",
        "user_input = str(input(\"Enter a Phrase: \")) #=> Mani Bharathi \n",
        "text = user_input.split()\n",
        "a = \" \"\n",
        "for i in text:\n",
        "  print(\"loop the i to print one by one from splitted input\",i)\n",
        "\n",
        "###########################################################\n",
        "#step:3\n",
        "user_input = str(input(\"Enter a Phrase: \")) #=> Mani Bharathi \n",
        "text = user_input.split()\n",
        "a = \" \"\n",
        "for i in text:\n",
        "  print(\"indexing\", (i[0]). upper())\n",
        "\n",
        "###########################################################\n",
        "#step:4\n",
        "user_input = str(input(\"Enter a Phrase: \")) #=> Mani Bharathi \n",
        "text = user_input.split()\n",
        "a = \" \"\n",
        "for i in text:\n",
        "  a=a+(i[0]). upper()\n",
        "print(a)\n",
        "\n"
      ],
      "metadata": {
        "colab": {
          "base_uri": "https://localhost:8080/"
        },
        "id": "3tW7ed8_i4rf",
        "outputId": "938e528d-3ed7-499c-e1f1-8b68eb35ca0a"
      },
      "execution_count": null,
      "outputs": [
        {
          "output_type": "stream",
          "name": "stdout",
          "text": [
            "Enter a Phrase: mani bharathi\n",
            "full program  MB\n",
            "Enter a Phrase: mani bharathi\n",
            "using split to split the word ['mani', 'bharathi']\n",
            "Enter a Phrase: mani bharathi\n",
            "loop the i to print one by one from splitted input mani\n",
            "loop the i to print one by one from splitted input bharathi\n",
            "Enter a Phrase: mani bharathi\n",
            "Enter a Phrase: mani bharathi\n",
            "indexing M\n",
            "indexing B\n",
            " MB\n"
          ]
        }
      ]
    },
    {
      "cell_type": "code",
      "source": [
        "from datetime import datetime   \n",
        "from playsound import playsound\n",
        "alarm_time = input(\"Enter the time of alarm to be set:HH:MM:SS\\n\")\n",
        "alarm_hour=alarm_time[0:2]\n",
        "alarm_minute=alarm_time[3:5]\n",
        "alarm_seconds=alarm_time[6:8]\n",
        "alarm_period = alarm_time[9:11].upper()\n",
        "print(\"Setting up alarm..\")\n",
        "while True:\n",
        "    now = datetime.now()\n",
        "    current_hour = now.strftime(\"%I\")\n",
        "    current_minute = now.strftime(\"%M\")\n",
        "    current_seconds = now.strftime(\"%S\")\n",
        "    current_period = now.strftime(\"%p\")\n",
        "    if(alarm_period==current_period):\n",
        "        if(alarm_hour==current_hour):\n",
        "            if(alarm_minute==current_minute):\n",
        "                if(alarm_seconds==current_seconds):\n",
        "                    print(\"Wake Up!\")\n",
        "                    playsound('audio.mp3')\n",
        "                    break\n"
      ],
      "metadata": {
        "colab": {
          "base_uri": "https://localhost:8080/",
          "height": 374
        },
        "id": "OEcdexOBiWV-",
        "outputId": "2a564dbf-f810-4129-ed43-e93186c618f2"
      },
      "execution_count": null,
      "outputs": [
        {
          "output_type": "error",
          "ename": "TclError",
          "evalue": "ignored",
          "traceback": [
            "\u001b[0;31m---------------------------------------------------------------------------\u001b[0m",
            "\u001b[0;31mTclError\u001b[0m                                  Traceback (most recent call last)",
            "\u001b[0;32m<ipython-input-41-4095ab629449>\u001b[0m in \u001b[0;36m<module>\u001b[0;34m()\u001b[0m\n\u001b[1;32m      1\u001b[0m \u001b[0;32mfrom\u001b[0m \u001b[0mtkinter\u001b[0m \u001b[0;32mimport\u001b[0m \u001b[0;34m*\u001b[0m\u001b[0;34m\u001b[0m\u001b[0;34m\u001b[0m\u001b[0m\n\u001b[0;32m----> 2\u001b[0;31m \u001b[0mwindow\u001b[0m\u001b[0;34m=\u001b[0m\u001b[0mTk\u001b[0m\u001b[0;34m(\u001b[0m\u001b[0;34m)\u001b[0m\u001b[0;34m\u001b[0m\u001b[0;34m\u001b[0m\u001b[0m\n\u001b[0m\u001b[1;32m      3\u001b[0m \u001b[0;31m# add widgets here\u001b[0m\u001b[0;34m\u001b[0m\u001b[0;34m\u001b[0m\u001b[0;34m\u001b[0m\u001b[0m\n\u001b[1;32m      4\u001b[0m \u001b[0;34m\u001b[0m\u001b[0m\n\u001b[1;32m      5\u001b[0m \u001b[0mwindow\u001b[0m\u001b[0;34m.\u001b[0m\u001b[0mtitle\u001b[0m\u001b[0;34m(\u001b[0m\u001b[0;34m'Hello Python'\u001b[0m\u001b[0;34m)\u001b[0m\u001b[0;34m\u001b[0m\u001b[0;34m\u001b[0m\u001b[0m\n",
            "\u001b[0;32m/usr/lib/python3.7/tkinter/__init__.py\u001b[0m in \u001b[0;36m__init__\u001b[0;34m(self, screenName, baseName, className, useTk, sync, use)\u001b[0m\n\u001b[1;32m   2021\u001b[0m                 \u001b[0mbaseName\u001b[0m \u001b[0;34m=\u001b[0m \u001b[0mbaseName\u001b[0m \u001b[0;34m+\u001b[0m \u001b[0mext\u001b[0m\u001b[0;34m\u001b[0m\u001b[0;34m\u001b[0m\u001b[0m\n\u001b[1;32m   2022\u001b[0m         \u001b[0minteractive\u001b[0m \u001b[0;34m=\u001b[0m \u001b[0;36m0\u001b[0m\u001b[0;34m\u001b[0m\u001b[0;34m\u001b[0m\u001b[0m\n\u001b[0;32m-> 2023\u001b[0;31m         \u001b[0mself\u001b[0m\u001b[0;34m.\u001b[0m\u001b[0mtk\u001b[0m \u001b[0;34m=\u001b[0m \u001b[0m_tkinter\u001b[0m\u001b[0;34m.\u001b[0m\u001b[0mcreate\u001b[0m\u001b[0;34m(\u001b[0m\u001b[0mscreenName\u001b[0m\u001b[0;34m,\u001b[0m \u001b[0mbaseName\u001b[0m\u001b[0;34m,\u001b[0m \u001b[0mclassName\u001b[0m\u001b[0;34m,\u001b[0m \u001b[0minteractive\u001b[0m\u001b[0;34m,\u001b[0m \u001b[0mwantobjects\u001b[0m\u001b[0;34m,\u001b[0m \u001b[0museTk\u001b[0m\u001b[0;34m,\u001b[0m \u001b[0msync\u001b[0m\u001b[0;34m,\u001b[0m \u001b[0muse\u001b[0m\u001b[0;34m)\u001b[0m\u001b[0;34m\u001b[0m\u001b[0;34m\u001b[0m\u001b[0m\n\u001b[0m\u001b[1;32m   2024\u001b[0m         \u001b[0;32mif\u001b[0m \u001b[0museTk\u001b[0m\u001b[0;34m:\u001b[0m\u001b[0;34m\u001b[0m\u001b[0;34m\u001b[0m\u001b[0m\n\u001b[1;32m   2025\u001b[0m             \u001b[0mself\u001b[0m\u001b[0;34m.\u001b[0m\u001b[0m_loadtk\u001b[0m\u001b[0;34m(\u001b[0m\u001b[0;34m)\u001b[0m\u001b[0;34m\u001b[0m\u001b[0;34m\u001b[0m\u001b[0m\n",
            "\u001b[0;31mTclError\u001b[0m: no display name and no $DISPLAY environment variable"
          ]
        }
      ]
    },
    {
      "cell_type": "code",
      "source": [
        " #find duplicate character in string\n",
        "input = \"geeksforgeeks\"\n",
        "inp = ['mani', 'max', 'bery', 'max', 'fg', 'mani']\n",
        "ins = 1, 3, 6, 9, 0, 4, 7, 2, 3, 7\n",
        "duplicate=[ ] #g, e\n",
        "for i in inp:\n",
        "   if inp.count(i)>1: # if geeksforgeeks.count(i=g)>1:\n",
        "      if i not in duplicate:  #i= g \n",
        "         duplicate.append(i)\n",
        "print(duplicate)\n",
        "\n",
        "# v = set(inp)\n",
        "# print(v)"
      ],
      "metadata": {
        "id": "SfbEV9Wo44Yd",
        "colab": {
          "base_uri": "https://localhost:8080/"
        },
        "outputId": "5cbc9c89-8846-4c3f-a59b-66eabf5d74a0"
      },
      "execution_count": null,
      "outputs": [
        {
          "output_type": "stream",
          "name": "stdout",
          "text": [
            "['mani', 'max']\n"
          ]
        }
      ]
    },
    {
      "cell_type": "code",
      "source": [
        "inp = [\"Azure vs. AWS - Which cloud is best? \", \"AWS vs. Azure - Overview\", \"Azure vs. AWS - Computation power\", \"Azure Cloud vs. AWS Cloud – Storage\", \"Azure or AWS - Which is better in terms of Pricing?\", \"Amazon AWS vs. Microsoft Azure – Databases\", \"Azure vs AWS–Content Delivery and Networking Connectivity\", \"Amazon AWS vs. Microsoft Azure - Machine Learning\", \"Azure compared to AWS: Job Opportunities\", \"AWS vs. Azure: Salary\", \"AWS vs. Azure: Difficulty Level\", \"AWS vs. Azure: Market Share for Q1\", \"Microsoft Azure versus AWS: Certifications\", \n",
        "duplicate=[ ] \n",
        "for i in inp:\n",
        "   if inp.count(i)>1: # if geeksforgeeks.count(i=g)>1:\n",
        "      if i not in duplicate:  #i= g \n",
        "         duplicate.append(i)\n",
        "print(duplicate)\n"
      ],
      "metadata": {
        "id": "NTSRZfuIDpNh"
      },
      "execution_count": null,
      "outputs": []
    },
    {
      "cell_type": "code",
      "source": [
        "#foind leap year\n",
        "year = 2005\n",
        "if year%400==0 and year%100==0:\n",
        "    print(year, \"is leap year\")\n",
        "else:\n",
        "    print(year, \"is not a leap year\")\n",
        "\n",
        "#remove duplicate using set\n",
        "v= set(input)\n",
        "print(v)\n"
      ],
      "metadata": {
        "colab": {
          "base_uri": "https://localhost:8080/"
        },
        "id": "bu8vGDWT3pNn",
        "outputId": "0aa0acff-2f48-4399-f913-f14250fbcaa3"
      },
      "execution_count": null,
      "outputs": [
        {
          "output_type": "stream",
          "name": "stdout",
          "text": [
            "2005 is not a leap year\n",
            "{1, 2, 7, 8, 11, 45, 15}\n"
          ]
        }
      ]
    },
    {
      "cell_type": "code",
      "source": [
        "#two sum \n",
        "\n",
        "# Given an array of integers nums and an integer target, return indices of the two numbers such that they add up to target.\n",
        "\n",
        "# You may assume that each input would have exactly one solution, and you may not use the same element twice.\n",
        "\n",
        "# You can return the answer in any order.\n",
        "\n",
        "# Example 2:\n",
        "\n",
        "# Input: nums = [3,2,4] target = 6\n",
        "# Output: [1,2]\n",
        "\n",
        "#python 3\n",
        "input = [2,7,11, 15, 2, 45,8, 1]\n",
        "target = 9\n",
        "for i in range(len(input)):\n",
        "  ini_value = input[i]\n",
        "  for j in range(i+1, len(input)):\n",
        "    if ini_value + input[j]== target:\n",
        "      index = str(i)+ \" ,\" + str(j)\n",
        "      value = str(input[i])+ \", \" + str(input[j])\n",
        "print(index)\n",
        "print(value)"
      ],
      "metadata": {
        "colab": {
          "base_uri": "https://localhost:8080/"
        },
        "id": "STSlCxhRTpey",
        "outputId": "c319745a-cad9-429f-961e-70456616484e"
      },
      "execution_count": null,
      "outputs": [
        {
          "output_type": "stream",
          "name": "stdout",
          "text": [
            "6 ,7\n",
            "8, 1\n"
          ]
        }
      ]
    },
    {
      "cell_type": "code",
      "execution_count": null,
      "metadata": {
        "colab": {
          "base_uri": "https://localhost:8080/"
        },
        "id": "shK4MqXE3YFE",
        "outputId": "dca40741-8be8-4d0a-b7a3-a3c17da27f94"
      },
      "outputs": [
        {
          "output_type": "stream",
          "name": "stdout",
          "text": [
            "enter the value: 0\n",
            "value 0 is neutral\n"
          ]
        }
      ],
      "source": [
        "#find postive & negative value\n",
        "num = int(input(\"enter the value: \"))\n",
        "if num>0:\n",
        "  print(\"num is positive value\")\n",
        "elif num==0:\n",
        "  print(\"value 0 is neutral\")\n",
        "else:\n",
        "  num<0\n",
        "  print(\"num is negative value\")"
      ]
    },
    {
      "cell_type": "code",
      "source": [
        "#find the absolute value? to find the position of the value from 0, for ex: the count of -5 from 0 is 5.  (hint: change the given number into positive number by converting it  formula:(value * -1))\n",
        "num  = int(input(\"enter the value: \"))\n",
        "if num >=0:\n",
        "  print(\"the absolute value of num is:  \", num)\n",
        "else:\n",
        "  v =num*-1\n",
        "  print(\"the absolute value of  num is: \", v)"
      ],
      "metadata": {
        "colab": {
          "base_uri": "https://localhost:8080/"
        },
        "id": "SitoUJwU44qz",
        "outputId": "68af8c79-87af-4862-a59f-7f665dadf062"
      },
      "execution_count": null,
      "outputs": [
        {
          "output_type": "stream",
          "name": "stdout",
          "text": [
            "enter the value: 8\n",
            "the absolute value of num is:   8\n"
          ]
        }
      ]
    },
    {
      "cell_type": "code",
      "source": [
        "#find the odd or even number (hint: modues (%) of  2 = 0 is even, if not then odd )\n",
        "num  = int(input(\"enter the value: \"))\n",
        "if num %2==0:\n",
        "  print(\"it is even value\")\n",
        "else: \n",
        "  num %2 !=0\n",
        "  print(\"it is odd value\")"
      ],
      "metadata": {
        "colab": {
          "base_uri": "https://localhost:8080/"
        },
        "id": "1sgTYoFq7FeF",
        "outputId": "f1023c4e-d39c-4086-c741-f9eb97b87722"
      },
      "execution_count": null,
      "outputs": [
        {
          "output_type": "stream",
          "name": "stdout",
          "text": [
            "enter the value: 6\n",
            "it is even value\n"
          ]
        }
      ]
    },
    {
      "cell_type": "code",
      "source": [
        "#sum of given natural numbers\n",
        "num  = int(input(\"enter the value: \"))\n",
        "c = 0\n",
        "for i in range(1, num+1):\n",
        "  c = c+i\n",
        "print(c)\n",
        "# (or)\n",
        "# c= num*(num+1)/2\n",
        "# print(int(c))\n",
        "#(or)\n",
        "# c=0\n",
        "# while num>0:\n",
        "#   c = c+num\n",
        "#   num=num-1\n",
        "# print(c)"
      ],
      "metadata": {
        "colab": {
          "base_uri": "https://localhost:8080/"
        },
        "id": "1BHNdjJWJecO",
        "outputId": "fa814592-0dce-46fd-e02f-6255a47faaeb"
      },
      "execution_count": null,
      "outputs": [
        {
          "output_type": "stream",
          "name": "stdout",
          "text": [
            "enter the value: 100\n",
            "5050\n"
          ]
        }
      ]
    },
    {
      "cell_type": "code",
      "source": [
        "#swap two numbers, see the below steps to understand\n",
        "# a=4\n",
        "# b=6\n",
        "\n",
        "# temp=a\n",
        "# temp = 4\n",
        "\n",
        "# a=b\n",
        "# 4=6\n",
        "# a=6\n",
        "\n",
        "# b = temp\n",
        "# temp = 4\n",
        "\n",
        "print(a, b) = 6, 4 \n",
        "a  = int(input(\"enter the value: \"))\n",
        "b  = int(input(\"enter the value: \"))\n",
        "print(\"a is: \", a)\n",
        "print(\"b is: \", b)\n",
        "temp=a\n",
        "a=b\n",
        "b=temp\n",
        "print(a, b)\n"
      ],
      "metadata": {
        "colab": {
          "base_uri": "https://localhost:8080/"
        },
        "id": "m6y9qaD_8V00",
        "outputId": "48ed1f58-9149-42c2-bf39-6a5a6021c409"
      },
      "execution_count": null,
      "outputs": [
        {
          "output_type": "stream",
          "name": "stdout",
          "text": [
            "enter the value: 4\n",
            "enter the value: 9\n",
            "a is:  4\n",
            "b is:  9\n",
            "9 4\n"
          ]
        }
      ]
    },
    {
      "cell_type": "code",
      "source": [
        "#find the given  number is factorial\n",
        "n1  = int(input(\"enter the value: \"))\n",
        "n2  = int(input(\"enter the value: \"))\n",
        "\n",
        "if n1%n2==0:\n",
        "  print(\"n1: \", n1 , \" is factorial of  n2\",n2 )\n",
        "else:\n",
        "    print(\"n1: \", n1 , \" is not a factorial of  n2: \",n2 )"
      ],
      "metadata": {
        "colab": {
          "base_uri": "https://localhost:8080/"
        },
        "id": "ysxHM5DPZXaM",
        "outputId": "491ba366-025e-4d6f-d1ae-79cb0be85a13"
      },
      "execution_count": null,
      "outputs": [
        {
          "output_type": "stream",
          "name": "stdout",
          "text": [
            "enter the value: 9\n",
            "enter the value: 19\n",
            "n1:  9  is not a factorial of  n2:  19\n"
          ]
        }
      ]
    },
    {
      "cell_type": "code",
      "source": [
        "#find the area of the circle by getting input as radius from user, (hint:  import pi from math module.), formula (a = pi * r **2)\n",
        "from math import pi\n",
        "radius = float(input(\"enter the radius of the circle: \"))\n",
        "area = pi*radius**2\n",
        "print(area)\n"
      ],
      "metadata": {
        "id": "G__UzSsrbfhk",
        "colab": {
          "base_uri": "https://localhost:8080/"
        },
        "outputId": "996fdefd-2a06-4151-a676-b24fc8e79f99"
      },
      "execution_count": null,
      "outputs": [
        {
          "output_type": "stream",
          "name": "stdout",
          "text": [
            "enter the radius of the circle: 6.5\n",
            "132.73228961416876\n"
          ]
        }
      ]
    },
    {
      "cell_type": "code",
      "source": [
        "#seperating values using commas , and printing in list and tuples\n",
        "values = input(\"Input some comma seprated numbers : \")\n",
        "list = values.split(\" \")\n",
        "tuple=tuple(list)\n",
        "print(tuple)\n",
        "print(list)"
      ],
      "metadata": {
        "colab": {
          "base_uri": "https://localhost:8080/"
        },
        "id": "QwoHQ_h4LNWb",
        "outputId": "6694b0a5-1cf3-4888-f7a4-6920ab7ab33e"
      },
      "execution_count": null,
      "outputs": [
        {
          "output_type": "stream",
          "name": "stdout",
          "text": [
            "Input some comma seprated numbers : 1 2 3 4 5 6 8 8 9\n",
            "('1', '2', '3', '4', '5', '6', '8', '8', '9')\n",
            "['1', '2', '3', '4', '5', '6', '8', '8', '9']\n"
          ]
        }
      ]
    },
    {
      "cell_type": "code",
      "source": [
        "#find the first & last value in the list\n",
        "colors=[\"red\", \"blue\", \"yellow\", \"black\", \"orange\" ]\n",
        "first_color = colors[0]\n",
        "last_color = colors[-1]\n",
        "print(\"first_color:\",first_color, \"&\", \"last_color: \", last_color)"
      ],
      "metadata": {
        "colab": {
          "base_uri": "https://localhost:8080/"
        },
        "id": "GVwyKWXQOOsf",
        "outputId": "e0813df3-e851-412d-d6b8-24e7bd14c5b6"
      },
      "execution_count": null,
      "outputs": [
        {
          "output_type": "stream",
          "name": "stdout",
          "text": [
            "first_color: red & last_color:  orange\n"
          ]
        }
      ]
    },
    {
      "cell_type": "code",
      "source": [
        "#computes the value of n+nn+nnn. (hint: n, nn, nnn and plus all the set of value by spliting % and adding+ )\n",
        "n = int(input(\"value: \"))\n",
        "n1 = int( \"%s\" % n )\n",
        "n2=int( \"%s%s\" % (n,n) )\n",
        "n3=int( \"%s%s%s\" % (n,n,n) )\n",
        "total =(n1+n2+n3)\n",
        "print(total, n1, n2, n3)"
      ],
      "metadata": {
        "colab": {
          "base_uri": "https://localhost:8080/"
        },
        "id": "h2eA5NhBQ3CO",
        "outputId": "5ea28b3a-cfa0-4cde-e4b7-d169c5c17005"
      },
      "execution_count": null,
      "outputs": [
        {
          "output_type": "stream",
          "name": "stdout",
          "text": [
            "value: 6\n",
            "738 6 66 666\n"
          ]
        }
      ]
    },
    {
      "cell_type": "code",
      "source": [
        "#split number into seperate digits\n",
        "n= 123\n",
        "#ans = 0\n",
        "while n!=0:\n",
        "  mod = n%10\n",
        "  n = n//10\n",
        "  print(mod)\n"
      ],
      "metadata": {
        "id": "P6LZ-Gh3f5SM",
        "colab": {
          "base_uri": "https://localhost:8080/"
        },
        "outputId": "a0ab436e-f3a4-4315-9998-f26127e7171e"
      },
      "execution_count": null,
      "outputs": [
        {
          "output_type": "stream",
          "name": "stdout",
          "text": [
            "3\n",
            "2\n",
            "1\n"
          ]
        }
      ]
    },
    {
      "cell_type": "code",
      "source": [
        "#reverse a number\n",
        "#num = int(input(\"value: \")) #=>1234\n",
        "#reversed_num = 0 #=> 0\n",
        "\n",
        "#while num != 0: #=>1234!=0\n",
        "    #digit = num % 10 #=>digit = 1234%10 = 4\n",
        "    #reversed_num = reversed_num * 10 + digit #reversednum => reversenum*10+digit => 0*10+4 =>4\n",
        "    #num //= 10 # num/10 => 1234//10 => 123\n",
        "\n",
        "#print(\"Reversed Number: \" + str(reversed_num))\n",
        "\n",
        "#loop1: num = 0\n",
        "#reversed num = 0\n",
        "#digit = 4\n",
        "#ans=>#reversed_num = 4\n",
        "#num = 123\n",
        "\n",
        "# n = int(input(\"value: \"))\n",
        "# ans = 0\n",
        "# while n>0:\n",
        "#   mod = n%10\n",
        "#   ans = ans*10+mod\n",
        "#   n =n//10\n",
        "# print(ans)\n",
        "\n",
        "def revr(n):\n",
        "  ans = 0\n",
        "  while n >0:\n",
        "     mod = n%10\n",
        "     ans = ans*10+mod\n",
        "     n =n//10\n",
        "  return(ans)\n",
        "revr(4562) \n",
        "\n"
      ],
      "metadata": {
        "colab": {
          "base_uri": "https://localhost:8080/"
        },
        "id": "RrTDAGPftxEY",
        "outputId": "40a007ab-d720-46ba-e00c-bcfdc86133b6"
      },
      "execution_count": null,
      "outputs": [
        {
          "output_type": "execute_result",
          "data": {
            "text/plain": [
              "2654"
            ]
          },
          "metadata": {},
          "execution_count": 4
        }
      ]
    },
    {
      "cell_type": "code",
      "source": [
        "#palindrome\n",
        "num  = int(input(\"enter the value: \"))\n",
        "ans=0\n",
        "temp = num\n",
        "while num!=0:\n",
        "  mod = num%10\n",
        "  #print(mod)\n",
        "  ans = ans*10+mod\n",
        "  #print(ans)\n",
        "  num = num//10\n",
        "#print(num)\n",
        "  \n",
        "\n",
        "if (temp==ans):\n",
        "  print(\"palindrome\")\n",
        "else:\n",
        "  print(\"not palindrome\")"
      ],
      "metadata": {
        "colab": {
          "base_uri": "https://localhost:8080/"
        },
        "id": "u4UZ_J1wl7vy",
        "outputId": "56a59db8-b4e4-44da-831b-86167d7bdea3"
      },
      "execution_count": null,
      "outputs": [
        {
          "output_type": "stream",
          "name": "stdout",
          "text": [
            "enter the value: 153\n",
            "not palindrome\n"
          ]
        }
      ]
    },
    {
      "cell_type": "code",
      "source": [
        "#arm strong\n",
        "\n",
        "num = int(input(\"value: \"))\n",
        "sum = 0\n",
        "temp = num\n",
        "while num>0:\n",
        "    mod=num%10\n",
        "    #print(mod)\n",
        "    sum+=mod**3\n",
        "    #print(sum)\n",
        "    num = num//10\n",
        "#print(num)\n",
        "\n",
        "if (sum==temp):\n",
        "     print(sum, \" \", \"is an arm strong number\")\n",
        "else:\n",
        "     print(\"not an arm strong number\")\n",
        "\n",
        "\n"
      ],
      "metadata": {
        "colab": {
          "base_uri": "https://localhost:8080/"
        },
        "id": "aWm-XXB0nNbo",
        "outputId": "f19cc2b1-07ba-485e-b687-1a77324e8bff"
      },
      "execution_count": null,
      "outputs": [
        {
          "output_type": "stream",
          "name": "stdout",
          "text": [
            "value: 153\n",
            "153   is an arm strong number\n"
          ]
        }
      ]
    },
    {
      "cell_type": "code",
      "source": [
        "#fibbanoci series\n",
        "a=0\n",
        "b=1\n",
        "n = int(input(\"value of n: \"))\n",
        "print(a)\n",
        "print(b)\n",
        "for i in range(1, n):\n",
        "   c=a+b\n",
        "   print(c)\n",
        "   a=b\n",
        "   b=c\n",
        " \n",
        "#(or)\n",
        "\n",
        "input = 10\n",
        "a = 0\n",
        "b = 1\n",
        "c = 0\n",
        "count = 0\n",
        "step 1: increment the value \n",
        "while count<=input:\n",
        "    #print(count)\n",
        "    print(a)\n",
        "    sum = a+b\n",
        "    a = b\n",
        "    b = sum\n",
        "    count = count+1\n",
        "\n",
        "\n"
      ],
      "metadata": {
        "colab": {
          "base_uri": "https://localhost:8080/"
        },
        "id": "ooL8OCKv-rUA",
        "outputId": "e9701373-ffe5-41cf-9d14-e33982ea55a8"
      },
      "execution_count": null,
      "outputs": [
        {
          "output_type": "stream",
          "name": "stdout",
          "text": [
            "value of n: 13\n",
            "0\n",
            "1\n",
            "1\n",
            "2\n",
            "3\n",
            "5\n",
            "8\n",
            "13\n",
            "21\n",
            "34\n",
            "55\n",
            "89\n",
            "144\n",
            "233\n"
          ]
        }
      ]
    },
    {
      "cell_type": "code",
      "source": [
        "#sum of digits\n",
        "n = int(input(\"value of n: \"))\n",
        "sum = 0\n",
        "while n>0:\n",
        "  mod = n%10\n",
        "  sum= sum+mod\n",
        "  n = n//10\n",
        "print(sum)  \n"
      ],
      "metadata": {
        "colab": {
          "base_uri": "https://localhost:8080/"
        },
        "id": "0FWwBqwsTQKx",
        "outputId": "306d5982-1fc7-4518-b8ab-bb52066c63f6"
      },
      "execution_count": null,
      "outputs": [
        {
          "output_type": "stream",
          "name": "stdout",
          "text": [
            "value of n: 123\n",
            "6\n"
          ]
        }
      ]
    },
    {
      "cell_type": "code",
      "source": [
        "#prime number\n",
        "n = int(input(\"value of n: \"))\n",
        "for i in range(n):\n",
        "  b=i%2!=0\n",
        "  print(b)\n",
        "\n",
        "\n",
        "#(or)\n",
        "\n",
        "# Program to check if a number is prime or not\n",
        "\n",
        "#num = 29\n",
        "\n",
        "# To take input from the user\n",
        "#num = int(input(\"Enter a number: \"))\n",
        "\n",
        "# define a flag variable\n",
        "#flag = False\n",
        "\n",
        "# prime numbers are greater than 1\n",
        "# if num > 1:\n",
        "#     # check for factors\n",
        "#     for i in range(2, num):\n",
        "#         if (num % i) == 0:\n",
        "#             # if factor is found, set flag to True\n",
        "#             flag = True\n",
        "#             # break out of loop\n",
        "#             break\n",
        "\n",
        "# # check if flag is True\n",
        "# if flag:\n",
        "#     print(num, \"is not a prime number\")\n",
        "# else:\n",
        "#     print(num, \"is a prime number\")\n",
        "flag = 0\n",
        "num = int(input(\"value: \"))\n",
        "for i in range(2, num):\n",
        "  flag = i%2\n",
        "  if flag==0:\n",
        "    print (\"prime\")\n"
      ],
      "metadata": {
        "colab": {
          "base_uri": "https://localhost:8080/"
        },
        "id": "xL-9YqrJXUO0",
        "outputId": "897d5038-1e29-4b8a-8295-529121d2f4de"
      },
      "execution_count": null,
      "outputs": [
        {
          "output_type": "stream",
          "name": "stdout",
          "text": [
            "value of n: 7\n",
            "False\n",
            "True\n",
            "False\n",
            "True\n",
            "False\n",
            "True\n",
            "False\n",
            "value: 7\n",
            "prime\n",
            "prime\n",
            "prime\n"
          ]
        }
      ]
    },
    {
      "cell_type": "code",
      "source": [
        "#perfect\n",
        "Number = int(input(\" Please Enter any Number: \"))\n",
        "Sum = 0\n",
        "for i in range(1, Number):\n",
        "    if(Number % i == 0):\n",
        "        Sum = Sum + i\n",
        "if (Sum == Number):\n",
        "    print(\" %d is a Perfect Number\" %Number)\n",
        "else:\n",
        "    print(\" %d is not a Perfect Number\" %Number)"
      ],
      "metadata": {
        "colab": {
          "base_uri": "https://localhost:8080/"
        },
        "id": "st726E6TxFXN",
        "outputId": "2daefae4-e2c6-4130-e1f0-3323ddf25145"
      },
      "execution_count": null,
      "outputs": [
        {
          "output_type": "stream",
          "name": "stdout",
          "text": [
            " Please Enter any Number: 100\n",
            " 100 is not a Perfect Number\n"
          ]
        }
      ]
    },
    {
      "cell_type": "code",
      "source": [
        "#pattern program\n",
        "#5 rows & coloumns\n",
        "n = 6\n",
        "# for i in range(1, n+1):\n",
        "#   for j in range(i):\n",
        "#      print (\"*\", end=\" \")\n",
        "#   print()\n",
        "# for i in range(1, n+1):\n",
        "#   for j in range(i, n):\n",
        "#      print (\"*\", end=\" \")\n",
        "#   print()\n",
        "# for i in range(n+1):\n",
        "#   for j in range(i, n):\n",
        "#      print (\"*\", end=\" \")\n",
        "#   for j in range(i):\n",
        "#      print()  \n",
        "#   print()\n",
        "\n",
        "for i in range(n):\n",
        "  for j in range(i+1):\n",
        "      print (\"*\", end=\" \")\n",
        "  for j in range( i, n):\n",
        "      print(\"@\", end=\" \")\n",
        "  for j in range(i+1):\n",
        "      print(\"#\", end=\" \")\n",
        "  for j in range(i, n):\n",
        "      print(\"$\", end=\" \")\n",
        "  for j in range(i,n):\n",
        "        print(\"&\", end=\" \")\n",
        "  for j in range(i+1):\n",
        "        print(\"%\", end=\" \")      \n",
        "  print()\n",
        "\n",
        "g=5\n",
        "for i in range (g-1):\n",
        "    for j in range(i, g):\n",
        "        print(\"_\", end=\" \")\n",
        "    for j in range (i):\n",
        "        print(\"*\",end=\" \")\n",
        "    for j in range(i+1):\n",
        "        print(\"*\", end=\" \")\n",
        "    for j in range(i, g):\n",
        "        print(\"_\", end=\" \")\n",
        "    print()\n",
        "\n",
        "h=5\n",
        "for i in range (h):\n",
        "    for j in range(i+1):\n",
        "        print(\"_\", end=\" \")\n",
        "    for j in range (i, h-1):\n",
        "        print(\"*\",end=\" \")\n",
        "    for j in range(i,h):\n",
        "        print(\"*\", end=\" \")\n",
        "    for j in range(i+1):\n",
        "        print(\"_\", end=\" \")    \n",
        "    print()\n",
        "\n",
        "for i in range(n):\n",
        "  for j in range(n):\n",
        "    print(\"*\", end=\" \")\n",
        "  print()\n"
      ],
      "metadata": {
        "id": "QoAqs4cT3Pmz",
        "colab": {
          "base_uri": "https://localhost:8080/"
        },
        "outputId": "6fa0473f-5716-4857-e958-fbe210156a1d"
      },
      "execution_count": null,
      "outputs": [
        {
          "output_type": "stream",
          "name": "stdout",
          "text": [
            "* @ @ @ @ @ @ # $ $ $ $ $ $ & & & & & & % \n",
            "* * @ @ @ @ @ # # $ $ $ $ $ & & & & & % % \n",
            "* * * @ @ @ @ # # # $ $ $ $ & & & & % % % \n",
            "* * * * @ @ @ # # # # $ $ $ & & & % % % % \n",
            "* * * * * @ @ # # # # # $ $ & & % % % % % \n",
            "* * * * * * @ # # # # # # $ & % % % % % % \n",
            "_ _ _ _ _ * _ _ _ _ _ \n",
            "_ _ _ _ * * * _ _ _ _ \n",
            "_ _ _ * * * * * _ _ _ \n",
            "_ _ * * * * * * * _ _ \n",
            "_ * * * * * * * * * _ \n",
            "_ _ * * * * * * * _ _ \n",
            "_ _ _ * * * * * _ _ _ \n",
            "_ _ _ _ * * * _ _ _ _ \n",
            "_ _ _ _ _ * _ _ _ _ _ \n",
            "* * * * * * \n",
            "* * * * * * \n",
            "* * * * * * \n",
            "* * * * * * \n",
            "* * * * * * \n",
            "* * * * * * \n"
          ]
        }
      ]
    },
    {
      "cell_type": "code",
      "source": [
        "#condition based pattern program \n",
        "#for understanding\n",
        "#                            (i=0)\n",
        "#                 00   01  02  03  04\n",
        "  #         00   *     *    *     *    *   04\n",
        "  #         10   *     *    *     *    *   14\n",
        "  # (j=0) 20   *     *    *     *    *   24   (j=n-1)\n",
        "  #         30   *     *    *     *    *   34\n",
        "  #         40   *     *    *     *    *   44\n",
        "#                  40  41  42  43  44\n",
        "#                          (i = n-1)\n",
        "\n",
        "n= 5\n",
        "\n",
        "# for i in range(n):\n",
        "#   for j in range(n):\n",
        "\n",
        "#     print(j, end=\" \")\n",
        "#   print()\n",
        "# for i  in range(n):\n",
        "#   for j in range(b):\n",
        "#     if((i==0) or (i==4) or (j==0) or (j==4)):\n",
        "#       print(\"*\",end=\"\")\n",
        "#     else:\n",
        "#       print(\".\",end=\"\")\n",
        "#   print() \n",
        "\n",
        "\n",
        "\n",
        "\n",
        "#((i==j)  or (i+j==n-1)):\n",
        "\n",
        "for i in range(n):\n",
        "  for j in range(n):\n",
        "    if ((i==3 and j==3) or (i==0 and j==4) or (i==1 or j==3)  or (i==3 and j==1)  or (i==4 and j==0) or (i==4 and j==4) or (j==2 and j==2) or (i==1 or j==1) or (i==0 and j==0)):\n",
        "      \n",
        "      print(\"*\", end = \" \")\n",
        "    else:\n",
        "      print(\" \", end=\" \")\n",
        "  print()"
      ],
      "metadata": {
        "id": "gOmjol28xZe1",
        "colab": {
          "base_uri": "https://localhost:8080/"
        },
        "outputId": "3d253127-5b5e-47a3-97f3-d9cb92b2bed2"
      },
      "execution_count": null,
      "outputs": [
        {
          "output_type": "stream",
          "name": "stdout",
          "text": [
            "* * * * * \n",
            "* * * * * \n",
            "  * * *   \n",
            "  * * *   \n",
            "* * * * * \n"
          ]
        }
      ]
    },
    {
      "cell_type": "code",
      "source": [
        "#sum of elements in array \n",
        "# n=[1,7,3,8,57]\n",
        "# b=0\n",
        "# for i in range(0,len(n)):\n",
        "#   b=b+n[i] \n",
        "#   print(b)\n",
        "\n",
        "#(or)\n",
        "\n",
        "n=int(input(\"enter the value: \"))\n",
        "a=[]\n",
        "sum=0\n",
        "b= 4\n",
        "for i in range(n):\n",
        "  a.append(int(input(n)))\n",
        "  sum=sum+a[i]\n",
        "print(sum)   "
      ],
      "metadata": {
        "id": "cwI1Owdl2uDb",
        "colab": {
          "base_uri": "https://localhost:8080/"
        },
        "outputId": "a5d81422-7293-4774-b49d-1f838f24e0e6"
      },
      "execution_count": null,
      "outputs": [
        {
          "output_type": "stream",
          "name": "stdout",
          "text": [
            "enter the value: 10\n",
            "102\n",
            "103\n",
            "104\n",
            "105\n",
            "106\n",
            "107\n",
            "108\n",
            "109\n",
            "101\n",
            "1015\n",
            "60\n"
          ]
        }
      ]
    },
    {
      "cell_type": "code",
      "source": [
        "def maxnum(list):\n",
        "    max=list[0]\n",
        "    for a in list:\n",
        "        if a>max:\n",
        "             max=a\n",
        "    return max\n",
        "print(maxnum([1,2,8,0]))\n",
        "\n",
        "#(or)\n"
      ],
      "metadata": {
        "colab": {
          "base_uri": "https://localhost:8080/"
        },
        "id": "Xtl2ZHkkm5Nz",
        "outputId": "5df07fed-7517-4f37-f431-0b4ea7490d08"
      },
      "execution_count": null,
      "outputs": [
        {
          "output_type": "stream",
          "name": "stdout",
          "text": [
            "8\n"
          ]
        }
      ]
    },
    {
      "cell_type": "code",
      "source": [
        "#Largest Element in an array using python\n",
        "a = [1, 2, 3 , 5, 7, 56, 76]\n",
        "# max=arr[0]\n",
        "# n= len(arr)\n",
        "\n",
        "#method 1\n",
        "# a.sort()\n",
        "# print(a[-1])\n",
        "\n",
        "#method 2\n",
        "#print(max(a))\n",
        "\n",
        "#method 3\n",
        "v_max=a[0]\n",
        "for i in range( len(a)):\n",
        "  if a[i]>v_max:\n",
        "    v_max=a[i]\n",
        "print(v_max)\n"
      ],
      "metadata": {
        "id": "SmVb8XdHtaqD",
        "colab": {
          "base_uri": "https://localhost:8080/"
        },
        "outputId": "6c44484f-63a1-43b6-dd1c-60d3f017dd73"
      },
      "execution_count": null,
      "outputs": [
        {
          "output_type": "stream",
          "name": "stdout",
          "text": [
            "76\n"
          ]
        }
      ]
    },
    {
      "cell_type": "code",
      "source": [
        "#Smallest Element in an array using python\n",
        "a = [-9, -5,1, 2, 3 , 5, 7, 56, 76]\n",
        "# v_min =a[0]\n",
        "# for i in range(len(a)):\n",
        "#   if a[i]<v_min:\n",
        "#     v_min=a[i]\n",
        "# print(v_min)\n",
        "\n",
        "#method 2\n",
        "# a.sort()\n",
        "# print(a[0])\n"
      ],
      "metadata": {
        "colab": {
          "base_uri": "https://localhost:8080/"
        },
        "id": "IxLGRZLUZobb",
        "outputId": "2bf6fd26-c3f8-41b3-8521-7e37caee6048"
      },
      "execution_count": null,
      "outputs": [
        {
          "output_type": "stream",
          "name": "stdout",
          "text": [
            "-9\n"
          ]
        }
      ]
    },
    {
      "cell_type": "code",
      "source": [
        "#reverse array\n",
        "a = [1, 2, 3 , 5, 7, 56]\n",
        "#method 1\n",
        "# r = a[: :-1]\n",
        "# print(r)  \n",
        "#method 2\n",
        "# for i in reversed(a):\n",
        "#   print(i, end=\" \")\n",
        "#method 3\n",
        "# a.reverse()\n",
        "# print(a)\n"
      ],
      "metadata": {
        "id": "wMQbcBPNaSYp",
        "colab": {
          "base_uri": "https://localhost:8080/"
        },
        "outputId": "b95dfde5-aca8-452f-8462-3d009b40337e"
      },
      "execution_count": null,
      "outputs": [
        {
          "output_type": "stream",
          "name": "stdout",
          "text": [
            "[56, 7, 5, 3, 2, 1]\n",
            "Before reversal Array is : [11, 22, 33, 44, 55]\n",
            "After reversing Array: [55, 44, 33, 22, 11]\n"
          ]
        }
      ]
    },
    {
      "cell_type": "code",
      "source": [
        "#convert normal input into array\n",
        "a=int(input(\"enter size of array:\"))\n",
        "lst=[]\n",
        "for i in range(a):\n",
        "    b=int(input(\"enter element:\"))\n",
        "    lst.append(b)\n",
        "    print(lst)\n"
      ],
      "metadata": {
        "colab": {
          "base_uri": "https://localhost:8080/"
        },
        "id": "uSOmZ17CsdUx",
        "outputId": "78a0b08f-97a3-46ac-f518-26295dd4039c"
      },
      "execution_count": null,
      "outputs": [
        {
          "output_type": "stream",
          "name": "stdout",
          "text": [
            "enter size of array:5\n",
            "enter element:4\n",
            "[4]\n",
            "enter element:3\n",
            "[4, 3]\n",
            "enter element:2\n",
            "[4, 3, 2]\n",
            "enter element:1\n",
            "[4, 3, 2, 1]\n",
            "enter element:0\n",
            "[4, 3, 2, 1, 0]\n"
          ]
        }
      ]
    },
    {
      "cell_type": "code",
      "source": [],
      "metadata": {
        "id": "IdHFkH53ufFi"
      },
      "execution_count": null,
      "outputs": []
    },
    {
      "cell_type": "code",
      "source": [
        "a= [1, 2, 3, 4, 5, 6]\n",
        "n = int (input(\"value: \"))\n",
        "flag = 0\n",
        "for i in a:\n",
        "  if i==n:\n",
        "    print('found')\n",
        "    flag=1 \n",
        "    break\n",
        "if (flag==0):\n",
        "  print(\"not found\") \n"
      ],
      "metadata": {
        "colab": {
          "base_uri": "https://localhost:8080/"
        },
        "id": "0eY7guvdrGkv",
        "outputId": "f651febe-1cbc-4254-9c26-e8b413f9855c"
      },
      "execution_count": null,
      "outputs": [
        {
          "output_type": "stream",
          "name": "stdout",
          "text": [
            "value: 84\n",
            "not found\n"
          ]
        }
      ]
    },
    {
      "cell_type": "code",
      "source": [
        "#sum of 2d array\n",
        "a = [1, 2, 3, 4, 5, 6, 7, 8, 9]\n",
        "sum  = 0\n",
        "for i in a:\n",
        "  "
      ],
      "metadata": {
        "id": "kxHEhVBSvjrY"
      },
      "execution_count": null,
      "outputs": []
    }
  ]
}